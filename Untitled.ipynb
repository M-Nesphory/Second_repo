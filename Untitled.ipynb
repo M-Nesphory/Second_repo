{
 "cells": [
  {
   "cell_type": "code",
   "execution_count": 1,
   "id": "73256b73",
   "metadata": {},
   "outputs": [],
   "source": [
    "greet = \"Hello World\""
   ]
  },
  {
   "cell_type": "code",
   "execution_count": 2,
   "id": "152613da",
   "metadata": {},
   "outputs": [
    {
     "data": {
      "text/plain": [
       "'Hello World'"
      ]
     },
     "execution_count": 2,
     "metadata": {},
     "output_type": "execute_result"
    }
   ],
   "source": [
    "greet"
   ]
  },
  {
   "cell_type": "markdown",
   "id": "71c8e130",
   "metadata": {},
   "source": [
    "Adding new cells to this for no good reason"
   ]
  },
  {
   "cell_type": "code",
   "execution_count": 2,
   "id": "0ad77dc2",
   "metadata": {},
   "outputs": [
    {
     "name": "stdout",
     "output_type": "stream",
     "text": [
      "Guess a number between 1 and 20: 4\n",
      "Go higher\n",
      "Guess a number between 1 and 20: 19\n",
      "Go lower\n",
      "Guess a number between 1 and 20: 15\n",
      "Go lower\n",
      "Guess a number between 1 and 20: 10\n",
      "Go lower\n",
      "Guess a number between 1 and 20: 8\n",
      "Go lower\n",
      "\n",
      "Game Over! The correct answer was 7\n"
     ]
    }
   ],
   "source": [
    "import random\n",
    "import numpy as np\n",
    "number_pool = np.arange(1, 21)\n",
    "choice = random.choice(number_pool)\n",
    "guess_count = 1\n",
    "while guess_count <= 5:\n",
    "    guess = int(input(\"Guess a number between 1 and 20: \"))\n",
    "    if guess > 20:\n",
    "        print(\"Wrong input. Please enter a number between 1 and 20\")\n",
    "        guess_count += 1\n",
    "        continue\n",
    "    if guess > choice:\n",
    "        print(\"Go lower\")\n",
    "        guess_count += 1\n",
    "    elif guess < choice:\n",
    "        print(\"Go higher\")\n",
    "        guess_count += 1\n",
    "    elif guess == choice:\n",
    "        print(\"Bang on!\")\n",
    "        print(f\"That took you {guess_count} tries\")\n",
    "        guess_count += 1\n",
    "        break\n",
    "\n",
    "print(f\"\\nGame Over! The correct answer was {choice}\")\n"
   ]
  },
  {
   "cell_type": "code",
   "execution_count": null,
   "id": "c3f8ec67",
   "metadata": {},
   "outputs": [],
   "source": []
  }
 ],
 "metadata": {
  "kernelspec": {
   "display_name": "Python (learn-env)",
   "language": "python",
   "name": "learn-env"
  },
  "language_info": {
   "codemirror_mode": {
    "name": "ipython",
    "version": 3
   },
   "file_extension": ".py",
   "mimetype": "text/x-python",
   "name": "python",
   "nbconvert_exporter": "python",
   "pygments_lexer": "ipython3",
   "version": "3.8.5"
  }
 },
 "nbformat": 4,
 "nbformat_minor": 5
}
